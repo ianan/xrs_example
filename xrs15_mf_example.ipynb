{
 "cells": [
  {
   "cell_type": "markdown",
   "id": "8b641023",
   "metadata": {},
   "source": [
    "### Example getting GOES/XRS15 microflare data\n",
    "\n",
    "Note: several ways of doing and plotting this. The following works but there be more \"optimal\" ways.\n",
    "\n",
    "Other resources: [Sunpy doc on getting/plotting XRS](https://docs.sunpy.org/en/stable/generated/gallery/acquiring_data/goes_xrs_example.html#sphx-glr-generated-gallery-acquiring-data-goes-xrs-example-py).\n",
    "\n",
    "* 08-02-2022   IGH\n",
    "* 23-02-2022   Check works with sunpy 4.1.3 and new NOAA urls\n",
    "---"
   ]
  },
  {
   "cell_type": "code",
   "execution_count": 1,
   "id": "bc160398",
   "metadata": {},
   "outputs": [],
   "source": [
    "#  Import in the usual stuff\n",
    "import glob\n",
    "import matplotlib\n",
    "import matplotlib.pyplot as plt\n",
    "import numpy as np\n",
    "\n",
    "from sunpy import timeseries as ts\n",
    "from sunpy.net import Fido\n",
    "from sunpy.net import attrs as a"
   ]
  },
  {
   "cell_type": "code",
   "execution_count": 2,
   "id": "d2363305",
   "metadata": {},
   "outputs": [],
   "source": [
    "#  Here just assuming it save to your sunpy/data dir but can of course change\n",
    "outdir='/Users/iain/sunpy/data/'"
   ]
  },
  {
   "cell_type": "code",
   "execution_count": 3,
   "id": "01693ef1",
   "metadata": {},
   "outputs": [
    {
     "name": "stdout",
     "output_type": "stream",
     "text": [
      "Results from 1 Provider:\n",
      "\n",
      "1 Results from the XRSClient:\n",
      "Source: <8: https://umbra.nascom.nasa.gov/goes/fits \n",
      "8-15: https://www.ncei.noaa.gov/data/goes-space-environment-monitor/access/science/ \n",
      "16-17: https://data.ngdc.noaa.gov/platforms/solar-space-observing-satellites/goes/\n",
      "\n",
      "       Start Time               End Time        Instrument ... Source Provider\n",
      "----------------------- ----------------------- ---------- ... ------ --------\n",
      "2012-10-05 00:00:00.000 2012-10-05 23:59:59.999        XRS ...   GOES     NOAA\n",
      "\n",
      "\n"
     ]
    }
   ],
   "source": [
    "# Search for the data with Fido\n",
    "trange=a.Time(\"2012-10-05 21:20\",\"2012-10-05 21:40\")\n",
    "rg15 = Fido.search(trange, a.Instrument(\"XRS\"), a.goes.SatelliteNumber(15))\n",
    "print(rg15)"
   ]
  },
  {
   "cell_type": "code",
   "execution_count": 4,
   "id": "1bc7bfb7",
   "metadata": {},
   "outputs": [
    {
     "data": {
      "application/vnd.jupyter.widget-view+json": {
       "model_id": "2d6cf2ee2f314febb0e68995829cd0ec",
       "version_major": 2,
       "version_minor": 0
      },
      "text/plain": [
       "Files Downloaded:   0%|          | 0/1 [00:00<?, ?file/s]"
      ]
     },
     "metadata": {},
     "output_type": "display_data"
    }
   ],
   "source": [
    "# Get the file from Fido - can obviously skip this step if already downloaded\n",
    "# By default downloads to your sunpy/data directory\n",
    "fg15 = Fido.fetch(rg15,path=outdir)\n",
    "\n",
    "# GOES data are daily data files, so if timerange crosses 00:00 will get more than one file"
   ]
  },
  {
   "cell_type": "code",
   "execution_count": 5,
   "id": "19b4c9b9",
   "metadata": {},
   "outputs": [
    {
     "name": "stdout",
     "output_type": "stream",
     "text": [
      "['/Users/iain/sunpy/data/sci_gxrs-l2-irrad_g15_d20121005_v0-0-0.nc']\n"
     ]
    }
   ],
   "source": [
    "#  If already downloaded can skip above step and just load back in\n",
    "fg15=glob.glob(outdir+'sci_gxrs-l2-irrad_g15_d20121005_v0-0-0.nc')\n",
    "print(fg15)\n",
    "g15 = ts.TimeSeries(fg15, concatenate=True)"
   ]
  },
  {
   "cell_type": "code",
   "execution_count": 6,
   "id": "0c0ccc15",
   "metadata": {},
   "outputs": [],
   "source": [
    "# As GOES files are daily need to truncate timeseries to just time interested in\n",
    "tg15=g15.truncate(trange.start.iso,trange.end.iso)"
   ]
  },
  {
   "cell_type": "code",
   "execution_count": 7,
   "id": "d2c8d3fe",
   "metadata": {},
   "outputs": [],
   "source": [
    "# Extract the info from the timeseries class\n",
    "tg_tims=tg15.time\n",
    "tg_x05=tg15.quantity(\"xrsa\").value\n",
    "tg_x18=tg15.quantity(\"xrsb\").value"
   ]
  },
  {
   "cell_type": "code",
   "execution_count": 13,
   "id": "fe1b9c29",
   "metadata": {},
   "outputs": [
    {
     "data": {
      "image/png": "[encoded data removed]",
      "text/plain": [
       "<Figure size 576x432 with 1 Axes>"
      ]
     },
     "metadata": {
      "needs_background": "light"
     },
     "output_type": "display_data"
    }
   ],
   "source": [
    "# And now do a more manual plot of this truncated data\n",
    "# Some extra lines to make it look nicer, particularly in the time labelling\n",
    "\n",
    "plt.rcParams.update({'font.size': 18,'font.family':\"sans-serif\",\\\n",
    "                         'font.sans-serif':\"Arial\",'mathtext.default':\"regular\"})\n",
    "\n",
    "fig,ax = plt.subplots(figsize=(8, 6))\n",
    "plt.plot(tg_tims.datetime,tg_x18,drawstyle='steps-post',marker=None,color='firebrick',lw=2,label='$1-8\\;\\AA$')\n",
    "ax.set_ylabel(\"GOES15 XRS [$\\mathrm{W\\;m^{-2}}$] \")\n",
    "ax.set_xlabel(\"Start Time \"+trange.start.iso[:-4])\n",
    "ax.set_ylim([2e-7,5e-7])\n",
    "ax.set_xlim([trange.start.datetime,trange.end.datetime])\n",
    "# precisely control the x time labels\n",
    "myFmt = matplotlib.dates.DateFormatter('%H:%M')\n",
    "majorx= matplotlib.dates.MinuteLocator(interval=5)\n",
    "minorx= matplotlib.dates.MinuteLocator(interval=1)\n",
    "ax.xaxis.set_major_locator(majorx)\n",
    "ax.xaxis.set_minor_locator(minorx)\n",
    "ax.xaxis.set_major_formatter(myFmt)\n",
    "plt.legend()\n",
    "plt.show()\n",
    "\n",
    "# # Short channel not very useful for these small events\n",
    "# fig,ax = plt.subplots(figsize=(10, 6))\n",
    "# plt.plot(tg_tims.datetime,tg_x05,drawstyle='steps-post',marker=None,color='darkblue',lw=2,label='$0.5-4\\;\\AA$')\n",
    "# plt.plot(tg_tims.datetime,tg_x18,drawstyle='steps-post',marker=None,color='firebrick',lw=2,label='$1-8\\;\\AA$')\n",
    "# ax.set_ylabel(\"GOES15 XRS [$\\mathrm{W\\;m^{-2}}$] \")\n",
    "# ax.set_xlabel(\"Start Time \"+trange.start.iso[:-4])\n",
    "# ax.set_ylim([1e-9,5e-7])\n",
    "# ax.set_yscale('log')\n",
    "# ax.set_xlim([trange.start.datetime,trange.end.datetime])\n",
    "# # precisely control the x time labels\n",
    "# myFmt = matplotlib.dates.DateFormatter('%H:%M')\n",
    "# majorx= matplotlib.dates.MinuteLocator(interval=5)\n",
    "# minorx= matplotlib.dates.MinuteLocator(interval=1)\n",
    "# ax.xaxis.set_major_locator(majorx)\n",
    "# ax.xaxis.set_minor_locator(minorx)\n",
    "# ax.xaxis.set_major_formatter(myFmt)\n",
    "# plt.legend()\n",
    "# plt.show()"
   ]
  },
  {
   "cell_type": "code",
   "execution_count": 9,
   "id": "be9b9a12-7d5c-4d6f-b1c9-653a3a0d44c3",
   "metadata": {},
   "outputs": [
    {
     "name": "stdout",
     "output_type": "stream",
     "text": [
      "GOES Class: B4.3\n",
      "GOES Back Sub Class: B1.3\n"
     ]
    }
   ],
   "source": [
    "# Work out the flare GOES class\n",
    "# From about plot it's in the B-range as in the 1e-7 Wm^-2\n",
    "print(\"GOES Class: B{0:.1f}\".format(1e7*max(tg_x18)))\n",
    "\n",
    "# Work out pre-flare background and subtract\n",
    "btrange=a.Time(\"2012-10-05 21:20\",\"2012-10-05 21:24\")\n",
    "btg15=g15.truncate(btrange.start.iso,btrange.end.iso)\n",
    "meanb18=np.mean(btg15.quantity(\"xrsb\").value)\n",
    "print(\"GOES Back Sub Class: B{0:.1f}\".format(1e7*(max(tg_x18)-meanb18)))"
   ]
  },
  {
   "cell_type": "markdown",
   "id": "1082a127-2686-46a9-9818-e2e270471caf",
   "metadata": {},
   "source": [
    "---"
   ]
  },
  {
   "cell_type": "code",
   "execution_count": 10,
   "id": "1afa34e3",
   "metadata": {},
   "outputs": [
    {
     "data": {
      "application/vnd.jupyter.widget-view+json": {
       "model_id": "b66457018b63415e99ad57a1565c5f3d",
       "version_major": 2,
       "version_minor": 0
      },
      "text/plain": [
       "Files Downloaded:   0%|          | 0/1 [00:00<?, ?file/s]"
      ]
     },
     "metadata": {},
     "output_type": "display_data"
    }
   ],
   "source": [
    "#  Repeat all of the above for another microflare\n",
    "trange=a.Time(\"2012-10-26 08:10\",\"2012-10-26 08:30\")\n",
    "rg15 = Fido.search(trange, a.Instrument(\"XRS\"), a.goes.SatelliteNumber(15))\n",
    "fg15 = Fido.fetch(rg15,path=outdir)\n",
    "fg15=glob.glob(outdir+'sci_gxrs-l2-irrad_g15_d20121026_v0-0-0.nc')\n",
    "g15 = ts.TimeSeries(fg15, concatenate=True)\n",
    "tg15=g15.truncate(trange.start.iso,trange.end.iso)\n",
    "tg_tims=tg15.time\n",
    "tg_x05=tg15.quantity(\"xrsa\").value\n",
    "tg_x18=tg15.quantity(\"xrsb\").value\n"
   ]
  },
  {
   "cell_type": "code",
   "execution_count": 14,
   "id": "4fc6cff2-a34a-433f-b6a4-1956da984622",
   "metadata": {},
   "outputs": [
    {
     "data": {
      "image/png": "[encoded data removed]",
      "text/plain": [
       "<Figure size 576x432 with 1 Axes>"
      ]
     },
     "metadata": {
      "needs_background": "light"
     },
     "output_type": "display_data"
    }
   ],
   "source": [
    "fig,ax = plt.subplots(figsize=(8, 6))\n",
    "plt.plot(tg_tims.datetime,tg_x18,drawstyle='steps-post',marker=None,color='firebrick',lw=2,label='$1-8\\;\\AA$')\n",
    "ax.set_ylabel(\"GOES15 XRS [$\\mathrm{W\\;m^{-2}}$] \")\n",
    "ax.set_xlabel(\"Start Time \"+trange.start.iso[:-4])\n",
    "ax.set_ylim([6.5e-7,9.5e-7])\n",
    "ax.set_xlim([trange.start.datetime,trange.end.datetime])\n",
    "myFmt = matplotlib.dates.DateFormatter('%H:%M')\n",
    "majorx= matplotlib.dates.MinuteLocator(interval=5)\n",
    "minorx= matplotlib.dates.MinuteLocator(interval=1)\n",
    "ax.xaxis.set_major_locator(majorx)\n",
    "ax.xaxis.set_minor_locator(minorx)\n",
    "ax.xaxis.set_major_formatter(myFmt)\n",
    "plt.legend()\n",
    "plt.show()\n",
    "\n",
    "# # Short channel not very useful for these small events\n",
    "# fig,ax = plt.subplots(figsize=(8, 6))\n",
    "# plt.plot(tg_tims.datetime,tg_x05,drawstyle='steps-post',marker=None,color='darkblue',lw=2,label='$0.5-4\\;\\AA$')\n",
    "# plt.plot(tg_tims.datetime,tg_x18,drawstyle='steps-post',marker=None,color='firebrick',lw=2,label='$1-8\\;\\AA$')\n",
    "# ax.set_ylabel(\"GOES15 XRS [$\\mathrm{W\\;m^{-2}}$] \")\n",
    "# ax.set_xlabel(\"Start Time \"+trange.start.iso[:-4])\n",
    "# ax.set_ylim([1e-9,5e-6])\n",
    "# ax.set_yscale('log')\n",
    "# ax.set_xlim([trange.start.datetime,trange.end.datetime])\n",
    "# # precisely control the x time labels\n",
    "# myFmt = matplotlib.dates.DateFormatter('%H:%M')\n",
    "# majorx= matplotlib.dates.MinuteLocator(interval=5)\n",
    "# minorx= matplotlib.dates.MinuteLocator(interval=1)\n",
    "# ax.xaxis.set_major_locator(majorx)\n",
    "# ax.xaxis.set_minor_locator(minorx)\n",
    "# ax.xaxis.set_major_formatter(myFmt)\n",
    "# plt.legend()\n",
    "# plt.show()"
   ]
  },
  {
   "cell_type": "code",
   "execution_count": 12,
   "id": "e62a233b",
   "metadata": {},
   "outputs": [
    {
     "name": "stdout",
     "output_type": "stream",
     "text": [
      "GOES Class: B9.4\n",
      "GOES Back Sub Class: B2.3\n"
     ]
    }
   ],
   "source": [
    "print(\"GOES Class: B{0:.1f}\".format(1e7*max(tg_x18)))\n",
    "btrange=a.Time(\"2012-10-26 08:10\",\"2012-10-26 08:12\")\n",
    "btg15=g15.truncate(btrange.start.iso,btrange.end.iso)\n",
    "meanb18=np.mean(btg15.quantity(\"xrsb\").value)\n",
    "print(\"GOES Back Sub Class: B{0:.1f}\".format(1e7*(max(tg_x18)-meanb18)))"
   ]
  },
  {
   "cell_type": "code",
   "execution_count": null,
   "id": "0a279bf1-6a5e-431c-852a-54da36123980",
   "metadata": {},
   "outputs": [],
   "source": []
  }
 ],
 "metadata": {
  "interpreter": {
   "hash": "40d3a090f54c6569ab1632332b64b2c03c39dcf918b08424e98f38b5ae0af88f"
  },
  "kernelspec": {
   "display_name": "Python 3 (ipykernel)",
   "language": "python",
   "name": "python3"
  },
  "language_info": {
   "codemirror_mode": {
    "name": "ipython",
    "version": 3
   },
   "file_extension": ".py",
   "mimetype": "text/x-python",
   "name": "python",
   "nbconvert_exporter": "python",
   "pygments_lexer": "ipython3",
   "version": "3.9.7"
  }
 },
 "nbformat": 4,
 "nbformat_minor": 5
}
