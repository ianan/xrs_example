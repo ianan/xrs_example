{
 "cells": [
  {
   "cell_type": "code",
   "execution_count": 1,
   "id": "aa2eb16c-6b61-438f-abea-f93d5119d5c5",
   "metadata": {},
   "outputs": [],
   "source": [
    "#  Import in the usual stuff\n",
    "import glob\n",
    "import matplotlib\n",
    "import matplotlib.pyplot as plt\n",
    "import numpy as np\n",
    "\n",
    "from sunpy import timeseries as ts\n",
    "from sunpy.net import Fido\n",
    "from sunpy.net import attrs as a\n",
    "from astropy.time import Time\n",
    "from astropy.time import TimeDelta\n",
    "from sunpy.time import parse_time\n",
    "\n",
    "#  Here just assuming it save to your sunpy/data dir but can of course change\n",
    "outdir='/Users/iain/sunpy/data/'\n"
   ]
  },
  {
   "cell_type": "markdown",
   "id": "fbc5e597-0991-4e49-922f-3127d4bd583e",
   "metadata": {},
   "source": [
    "---\n",
    "Testing that can get GOES XRS 15 data for the 2014 X-class flares...."
   ]
  },
  {
   "cell_type": "code",
   "execution_count": 2,
   "id": "21ba3f8d-8173-478c-a7fc-34616b1047cb",
   "metadata": {},
   "outputs": [],
   "source": [
    "# All X-flares over GOES 15 time 2010-09 to 2020-03\n",
    "trange=a.Time(\"2010-09-01 00:00\",\"2020-03-01 00:00\")\n",
    "\n",
    "res = Fido.search(trange,a.hek.EventType(\"FL\"),\n",
    "                  a.hek.FL.GOESCls > \"X1.0\",a.hek.FRM.Name == \"SSW Latest Events\")\n"
   ]
  },
  {
   "cell_type": "code",
   "execution_count": 3,
   "id": "f54b71ef-f668-4b26-8962-a9e5fec68e5b",
   "metadata": {},
   "outputs": [],
   "source": [
    "hekres = res[\"hek\"]\n",
    "shrt_res = hekres[\"event_starttime\", \"event_peaktime\",\"event_endtime\", \"fl_goescls\"]"
   ]
  },
  {
   "cell_type": "code",
   "execution_count": 4,
   "id": "114d88b2-f10a-4a5e-aca0-1fa842c84f6e",
   "metadata": {},
   "outputs": [
    {
     "data": {
      "text/html": [
       "<div><i>HEKTable length=37</i>\n",
       "<table id=\"table140631859286560\" class=\"table-striped table-bordered table-condensed\">\n",
       "<thead><tr><th>event_starttime</th><th>event_peaktime</th><th>event_endtime</th><th>fl_goescls</th></tr></thead>\n",
       "<thead><tr><th>Time</th><th>Time</th><th>Time</th><th>str4</th></tr></thead>\n",
       "<tr><td>2011-02-15 01:44:00.000</td><td>2011-02-15 01:45:00.000</td><td>2011-02-15 01:56:00.000</td><td>X2.2</td></tr>\n",
       "<tr><td>2011-03-09 23:13:00.000</td><td>2011-03-09 23:16:00.000</td><td>2011-03-09 23:23:00.000</td><td>X1.5</td></tr>\n",
       "<tr><td>2011-08-09 07:48:00.000</td><td>2011-08-09 08:05:00.000</td><td>2011-08-09 08:08:00.000</td><td>X6.9</td></tr>\n",
       "<tr><td>2011-09-06 22:12:00.000</td><td>2011-09-06 22:20:00.000</td><td>2011-09-06 22:24:00.000</td><td>X2.1</td></tr>\n",
       "<tr><td>2011-09-06 22:12:00.000</td><td>2011-09-06 22:20:00.000</td><td>2011-09-06 22:24:00.000</td><td>X2.1</td></tr>\n",
       "<tr><td>2011-09-07 22:32:00.000</td><td>2011-09-07 22:38:00.000</td><td>2011-09-07 22:44:00.000</td><td>X1.8</td></tr>\n",
       "<tr><td>...</td><td>...</td><td>...</td><td>...</td></tr>\n",
       "<tr><td>2014-12-20 00:11:00.000</td><td>2014-12-20 00:24:00.000</td><td>2014-12-20 00:28:00.000</td><td>X1.8</td></tr>\n",
       "<tr><td>2015-03-11 16:11:00.000</td><td>2015-03-11 16:22:00.000</td><td>2015-03-11 16:29:00.000</td><td>X2.1</td></tr>\n",
       "<tr><td>2015-05-05 22:05:00.000</td><td>2015-05-05 22:11:00.000</td><td>2015-05-05 22:15:00.000</td><td>X2.7</td></tr>\n",
       "<tr><td>2017-09-06 08:57:00.000</td><td>2017-09-06 09:10:00.000</td><td>2017-09-06 09:17:00.000</td><td>X2.2</td></tr>\n",
       "<tr><td>2017-09-06 11:53:00.000</td><td>2017-09-06 12:02:00.000</td><td>2017-09-06 12:10:00.000</td><td>X9.3</td></tr>\n",
       "<tr><td>2017-09-07 14:20:00.000</td><td>2017-09-07 14:36:00.000</td><td>2017-09-07 14:55:00.000</td><td>X1.3</td></tr>\n",
       "<tr><td>2017-09-10 15:35:00.000</td><td>2017-09-10 16:06:00.000</td><td>2017-09-10 16:31:00.000</td><td>X8.2</td></tr>\n",
       "</table></div>"
      ],
      "text/plain": [
       "<sunpy.net.hek.hek.HEKTable object at 0x7fe7b34758e0>\n",
       "    event_starttime          event_peaktime     ... fl_goescls\n",
       "----------------------- ----------------------- ... ----------\n",
       "2011-02-15 01:44:00.000 2011-02-15 01:45:00.000 ...       X2.2\n",
       "2011-03-09 23:13:00.000 2011-03-09 23:16:00.000 ...       X1.5\n",
       "2011-08-09 07:48:00.000 2011-08-09 08:05:00.000 ...       X6.9\n",
       "2011-09-06 22:12:00.000 2011-09-06 22:20:00.000 ...       X2.1\n",
       "2011-09-06 22:12:00.000 2011-09-06 22:20:00.000 ...       X2.1\n",
       "2011-09-07 22:32:00.000 2011-09-07 22:38:00.000 ...       X1.8\n",
       "2011-09-22 10:29:00.000 2011-09-22 11:01:00.000 ...       X1.4\n",
       "                    ...                     ... ...        ...\n",
       "2014-12-20 00:11:00.000 2014-12-20 00:24:00.000 ...       X1.8\n",
       "2015-03-11 16:11:00.000 2015-03-11 16:22:00.000 ...       X2.1\n",
       "2015-05-05 22:05:00.000 2015-05-05 22:11:00.000 ...       X2.7\n",
       "2017-09-06 08:57:00.000 2017-09-06 09:10:00.000 ...       X2.2\n",
       "2017-09-06 11:53:00.000 2017-09-06 12:02:00.000 ...       X9.3\n",
       "2017-09-07 14:20:00.000 2017-09-07 14:36:00.000 ...       X1.3\n",
       "2017-09-10 15:35:00.000 2017-09-10 16:06:00.000 ...       X8.2\n",
       "Length = 37 rows"
      ]
     },
     "execution_count": 4,
     "metadata": {},
     "output_type": "execute_result"
    }
   ],
   "source": [
    "shrt_res"
   ]
  },
  {
   "cell_type": "code",
   "execution_count": 5,
   "id": "f450e3ac-dfe9-4e91-bda8-cceb28b8d644",
   "metadata": {},
   "outputs": [
    {
     "name": "stdout",
     "output_type": "stream",
     "text": [
      "    event_starttime          event_peaktime     ... fl_goescls\n",
      "----------------------- ----------------------- ... ----------\n",
      "2014-01-07 18:04:00.000 2014-01-07 18:32:00.000 ...       X1.2\n",
      "2014-01-07 18:04:00.000 2014-01-07 18:30:00.000 ...       X1.2\n",
      "2014-06-10 11:36:00.000 2014-06-10 11:42:00.000 ...       X2.2\n",
      "2014-06-10 12:36:00.000 2014-06-10 12:52:00.000 ...       X1.5\n",
      "2014-09-10 17:21:00.000 2014-09-10 17:45:00.000 ...       X1.6\n",
      "2014-10-19 04:17:00.000 2014-10-19 05:01:00.000 ...       X1.1\n",
      "2014-10-22 14:02:00.000 2014-10-22 14:28:00.000 ...       X1.6\n",
      "2014-10-24 21:07:00.000 2014-10-24 21:40:00.000 ...       X3.1\n",
      "2014-10-26 10:04:00.000 2014-10-26 10:56:00.000 ...       X2.0\n",
      "2014-10-27 14:12:00.000 2014-10-27 14:47:00.000 ...       X2.0\n",
      "2014-11-07 16:53:00.000 2014-11-07 17:25:00.000 ...       X1.6\n",
      "2014-12-20 00:11:00.000 2014-12-20 00:27:00.000 ...       X1.8\n",
      "2014-12-20 00:11:00.000 2014-12-20 00:24:00.000 ...       X1.8\n"
     ]
    }
   ],
   "source": [
    "# Here are the 2014 ones\n",
    "print(shrt_res[18:31])"
   ]
  },
  {
   "cell_type": "code",
   "execution_count": 6,
   "id": "3ab3d53d-699d-489a-b481-366706566edd",
   "metadata": {},
   "outputs": [],
   "source": [
    "# For first event the GOES 15 data is online:\n",
    "# 2sec data:\n",
    "# https://satdat.ngdc.noaa.gov/sem/goes/data/science/xrs/goes15/gxrs-l2-irrad_science/2014/04/sci_gxrs-l2-irrad_g15_d20140401_v0-0-0.nc\n",
    "# avg1min science data:\n",
    "# https://satdat.ngdc.noaa.gov/sem/goes/data/science/xrs/goes15/xrsf-l2-avg1m_science/2014/01/sci_xrsf-l2-avg1m_g15_d20140107_v1-0-0.nc\n",
    "\n",
    "\n",
    "# Note the upcoming change of urls with:\n",
    "# https://satdat.ngdc.noaa.gov/sem/goes/ -> https://www.ncei.noaa.gov/data/goes-space-environment-monitor/access/\n",
    "# i.e. https://solarnews.nso.edu/upcoming-ngdc-satdat-url-change/"
   ]
  },
  {
   "cell_type": "code",
   "execution_count": 7,
   "id": "c1290705-bf57-4328-bb09-ad84755249f9",
   "metadata": {},
   "outputs": [
    {
     "name": "stdout",
     "output_type": "stream",
     "text": [
      "Results from 1 Provider:\n",
      "\n",
      "1 Results from the XRSClient:\n",
      "Source: <13: https://umbra.nascom.nasa.gov/goes/fits \n",
      "13, 14, 15: https://satdat.ngdc.noaa.gov/sem/goes/data/science/ \n",
      "16, 17: https://data.ngdc.noaa.gov/platforms/solar-space-observing-satellites/goes/\n",
      "\n",
      "       Start Time               End Time        Instrument ... Source Provider\n",
      "----------------------- ----------------------- ---------- ... ------ --------\n",
      "2014-01-07 00:00:00.000 2014-01-07 23:59:59.999        XRS ...   GOES     NOAA\n",
      "\n",
      "\n"
     ]
    },
    {
     "data": {
      "application/vnd.jupyter.widget-view+json": {
       "model_id": "88d94940c26a4c979e46d4da399edb6f",
       "version_major": 2,
       "version_minor": 0
      },
      "text/plain": [
       "Files Downloaded:   0%|          | 0/1 [00:00<?, ?file/s]"
      ]
     },
     "metadata": {},
     "output_type": "display_data"
    }
   ],
   "source": [
    "# Can fido get it for me?\n",
    "gtstart=Time(shrt_res[18][\"event_starttime\"],scale='utc')-TimeDelta(10*60,format='sec')\n",
    "gtend=Time(shrt_res[18][\"event_endtime\"],scale='utc')+TimeDelta(10*60,format='sec')\n",
    "\n",
    "# Search and get the XRS data\n",
    "tflrange=a.Time(gtstart.iso,gtend.iso)\n",
    "rg15 = Fido.search(tflrange, a.Instrument(\"XRS\"), a.goes.SatelliteNumber(15))\n",
    "print(rg15)\n",
    "fg15 = Fido.fetch(rg15,path=outdir,overwrite=False)\n"
   ]
  },
  {
   "cell_type": "code",
   "execution_count": 8,
   "id": "67278297-5cf1-401a-8192-c00185e18a3f",
   "metadata": {},
   "outputs": [
    {
     "name": "stdout",
     "output_type": "stream",
     "text": [
      "['/Users/iain/sunpy/data/sci_gxrs-l2-irrad_g15_d20140107_v0-0-0.nc']\n"
     ]
    }
   ],
   "source": [
    "print(fg15)"
   ]
  },
  {
   "cell_type": "code",
   "execution_count": 13,
   "id": "e34a78d4-a2da-4f65-a79f-8a3a510fd61f",
   "metadata": {},
   "outputs": [
    {
     "name": "stderr",
     "output_type": "stream",
     "text": [
      "WARNING: SunpyDeprecationWarning: .index is deprecatd. Use .time instead to get an astropy.time.Time object, or ts.to_dataframe().index to get a pandas DateTimeIndex. [sunpy.timeseries.timeseriesbase]\n"
     ]
    },
    {
     "data": {
      "image/png": "[encoded data removed]",
      "text/plain": [
       "<Figure size 720x432 with 1 Axes>"
      ]
     },
     "metadata": {
      "needs_background": "light"
     },
     "output_type": "display_data"
    }
   ],
   "source": [
    "fg15=glob.glob(outdir+'sci_gxrs-l2-irrad_g15_d20140107_v0-0-0.nc')\n",
    "g15 = ts.TimeSeries(fg15, concatenate=True)\n",
    "\n",
    "tg15=g15.truncate(tflrange.start.iso,tflrange.end.iso)\n",
    "\n",
    "tg_tims=tg15.index\n",
    "tg_x05=tg15.quantity(\"xrsa\").value\n",
    "tg_x18=tg15.quantity(\"xrsb\").value\n",
    "\n",
    "# And then plot it all\n",
    "tfl=a.Time(shrt_res[18][\"event_starttime\"],shrt_res[18][\"event_endtime\"])\n",
    "\n",
    "plt.rcParams.update({'font.size': 18,'font.family':\"sans-serif\",\\\n",
    "                         'font.sans-serif':\"Arial\",'mathtext.default':\"regular\"})\n",
    "\n",
    "fig,ax = plt.subplots(figsize=(10, 6))\n",
    "plt.plot(tg_tims,tg_x05,drawstyle='steps-post',marker=None,color='darkblue',lw=2,label='$0.5-4\\;\\AA$')\n",
    "plt.plot(tg_tims,tg_x18,drawstyle='steps-post',marker=None,color='firebrick',lw=2,label='$1-8\\;\\AA$')\n",
    "\n",
    "ax.set_ylabel(\"GOES15 XRS [$\\mathrm{W\\;m^{-2}}$] \")\n",
    "ax.set_xlabel(\"Start Time \"+tflrange.start.iso[:-4])\n",
    "ax.set_yscale(\"log\")\n",
    "ax.set_ylim([1e-8,5e-3])\n",
    "ax.set_xlim([tflrange.start.datetime,tflrange.end.datetime])\n",
    "myFmt = matplotlib.dates.DateFormatter('%H:%M')\n",
    "majorx= matplotlib.dates.MinuteLocator(interval=15)\n",
    "minorx= matplotlib.dates.MinuteLocator(interval=5)\n",
    "ax.xaxis.set_major_locator(majorx)\n",
    "ax.xaxis.set_minor_locator(minorx)\n",
    "ax.xaxis.set_major_formatter(myFmt)\n",
    "ax.axvline(parse_time(shrt_res[18][\"event_peaktime\"]).datetime,color='black',ls='-.')\n",
    "ax.axvspan(tfl.start.datetime,tfl.end.datetime,color='black',alpha=0.2, label='GOES Flare')\n",
    "plt.legend()\n",
    "plt.show()"
   ]
  },
  {
   "cell_type": "code",
   "execution_count": null,
   "id": "5870722a-6cb7-474d-9c90-fdb2e500095f",
   "metadata": {},
   "outputs": [],
   "source": []
  },
  {
   "cell_type": "markdown",
   "id": "2c19e6d5-041d-48e4-8630-43d14db514cb",
   "metadata": {},
   "source": [
    "---\n",
    "Testing if there is missing data from NOAA server for date in 2011"
   ]
  },
  {
   "cell_type": "code",
   "execution_count": 10,
   "id": "842c6dbe",
   "metadata": {},
   "outputs": [
    {
     "name": "stdout",
     "output_type": "stream",
     "text": [
      "Results from 1 Provider:\n",
      "\n",
      "0 Results from the XRSClient:\n",
      "Source: <13: https://umbra.nascom.nasa.gov/goes/fits \n",
      "13, 14, 15: https://satdat.ngdc.noaa.gov/sem/goes/data/science/ \n",
      "16, 17: https://data.ngdc.noaa.gov/platforms/solar-space-observing-satellites/goes/\n",
      "\n",
      "<No columns>\n",
      "\n",
      "\n"
     ]
    }
   ],
   "source": [
    "rg=Fido.search(a.Time(\"2011-03-09 23:00\",\"2011-03-10 02:10\"), a.Instrument(\"XRS\"))\n",
    "print(rg)\n"
   ]
  },
  {
   "cell_type": "code",
   "execution_count": 11,
   "id": "0ba5bd84",
   "metadata": {},
   "outputs": [],
   "source": [
    "# Was there at some point\n",
    "# https://www.solarmonitor.org/data/2011/03/10/pngs/goes/goes_xrays_20110310.png\n",
    "# but mostly missing files in the noaa directory for that month:\n",
    "# https://satdat.ngdc.noaa.gov/sem/goes/data/science/xrs/goes15/gxrs-l2-irrad_science/2011/03/"
   ]
  },
  {
   "cell_type": "code",
   "execution_count": null,
   "id": "b50d15ae",
   "metadata": {},
   "outputs": [],
   "source": []
  },
  {
   "cell_type": "code",
   "execution_count": 12,
   "id": "2e4e1416",
   "metadata": {},
   "outputs": [
    {
     "name": "stdout",
     "output_type": "stream",
     "text": [
      "    event_starttime          event_peaktime          event_endtime      fl_goescls\n",
      "----------------------- ----------------------- ----------------------- ----------\n",
      "2011-03-09 23:13:00.000 2011-03-09 23:23:00.000 2011-03-09 23:29:00.000       X1.5\n",
      "    event_starttime          event_peaktime          event_endtime      fl_goescls\n",
      "----------------------- ----------------------- ----------------------- ----------\n",
      "2012-10-23 03:13:00.000 2012-10-23 03:17:00.000 2012-10-23 03:21:00.000       X1.8\n",
      "43\n"
     ]
    },
    {
     "data": {
      "text/html": [
       "<div><i>HEKTable length=43</i>\n",
       "<table id=\"table140633510925264\" class=\"table-striped table-bordered table-condensed\">\n",
       "<thead><tr><th>event_starttime</th><th>event_peaktime</th><th>event_endtime</th><th>fl_goescls</th></tr></thead>\n",
       "<thead><tr><th>Time</th><th>Time</th><th>Time</th><th>str4</th></tr></thead>\n",
       "<tr><td>2011-02-15 01:44:00.000</td><td>2011-02-15 01:56:00.000</td><td>2011-02-15 02:06:00.000</td><td>X2.2</td></tr>\n",
       "<tr><td>2011-08-09 07:48:00.000</td><td>2011-08-09 08:05:00.000</td><td>2011-08-09 08:08:00.000</td><td>X6.9</td></tr>\n",
       "<tr><td>2011-09-06 22:12:00.000</td><td>2011-09-06 22:20:00.000</td><td>2011-09-06 22:24:00.000</td><td>X2.1</td></tr>\n",
       "<tr><td>2011-09-06 22:12:00.000</td><td>2011-09-06 22:20:00.000</td><td>2011-09-06 22:24:00.000</td><td>X2.1</td></tr>\n",
       "<tr><td>2011-09-07 22:32:00.000</td><td>2011-09-07 22:38:00.000</td><td>2011-09-07 22:44:00.000</td><td>X1.8</td></tr>\n",
       "<tr><td>2011-09-22 10:29:00.000</td><td>2011-09-22 11:01:00.000</td><td>2011-09-22 11:44:00.000</td><td>X1.4</td></tr>\n",
       "<tr><td>...</td><td>...</td><td>...</td><td>...</td></tr>\n",
       "<tr><td>2014-12-20 00:11:00.000</td><td>2014-12-20 00:28:00.000</td><td>2014-12-20 00:55:00.000</td><td>X1.8</td></tr>\n",
       "<tr><td>2015-03-11 16:11:00.000</td><td>2015-03-11 16:22:00.000</td><td>2015-03-11 16:29:00.000</td><td>X2.1</td></tr>\n",
       "<tr><td>2015-05-05 22:05:00.000</td><td>2015-05-05 22:11:00.000</td><td>2015-05-05 22:15:00.000</td><td>X2.7</td></tr>\n",
       "<tr><td>2017-09-06 08:57:00.000</td><td>2017-09-06 09:10:00.000</td><td>2017-09-06 09:17:00.000</td><td>X2.2</td></tr>\n",
       "<tr><td>2017-09-06 11:53:00.000</td><td>2017-09-06 12:02:00.000</td><td>2017-09-06 12:10:00.000</td><td>X9.3</td></tr>\n",
       "<tr><td>2017-09-07 14:20:00.000</td><td>2017-09-07 14:36:00.000</td><td>2017-09-07 14:55:00.000</td><td>X1.3</td></tr>\n",
       "<tr><td>2017-09-10 15:35:00.000</td><td>2017-09-10 16:06:00.000</td><td>2017-09-10 16:31:00.000</td><td>X8.2</td></tr>\n",
       "</table></div>"
      ],
      "text/plain": [
       "<sunpy.net.hek.hek.HEKTable object at 0x7fe7ca77a9d0>\n",
       "    event_starttime          event_peaktime     ... fl_goescls\n",
       "----------------------- ----------------------- ... ----------\n",
       "2011-02-15 01:44:00.000 2011-02-15 01:56:00.000 ...       X2.2\n",
       "2011-08-09 07:48:00.000 2011-08-09 08:05:00.000 ...       X6.9\n",
       "2011-09-06 22:12:00.000 2011-09-06 22:20:00.000 ...       X2.1\n",
       "2011-09-06 22:12:00.000 2011-09-06 22:20:00.000 ...       X2.1\n",
       "2011-09-07 22:32:00.000 2011-09-07 22:38:00.000 ...       X1.8\n",
       "2011-09-22 10:29:00.000 2011-09-22 11:01:00.000 ...       X1.4\n",
       "2011-09-24 09:21:00.000 2011-09-24 09:40:00.000 ...       X1.9\n",
       "                    ...                     ... ...        ...\n",
       "2014-12-20 00:11:00.000 2014-12-20 00:28:00.000 ...       X1.8\n",
       "2015-03-11 16:11:00.000 2015-03-11 16:22:00.000 ...       X2.1\n",
       "2015-05-05 22:05:00.000 2015-05-05 22:11:00.000 ...       X2.7\n",
       "2017-09-06 08:57:00.000 2017-09-06 09:10:00.000 ...       X2.2\n",
       "2017-09-06 11:53:00.000 2017-09-06 12:02:00.000 ...       X9.3\n",
       "2017-09-07 14:20:00.000 2017-09-07 14:36:00.000 ...       X1.3\n",
       "2017-09-10 15:35:00.000 2017-09-10 16:06:00.000 ...       X8.2\n",
       "Length = 43 rows"
      ]
     },
     "execution_count": 12,
     "metadata": {},
     "output_type": "execute_result"
    }
   ],
   "source": [
    "trange=a.Time(\"2010-03-01 00:00\",\"2020-03-01 00:00\")\n",
    "res = Fido.search(trange,a.hek.EventType(\"FL\"),a.hek.FL.GOESCls > \"X1.0\",a.hek.OBS.Observatory == \"GOES\")\n",
    "hekres = res[\"hek\"]\n",
    "shrt_res = hekres[\"event_starttime\", \"event_peaktime\",\"event_endtime\", \"fl_goescls\"]\n",
    "\n",
    "# These were the ones that returned no G15 XRS data?\n",
    "print(shrt_res[1])\n",
    "print(shrt_res[15])\n",
    "\n",
    "# get rid of them from the list\n",
    "ind=list(range(len(shrt_res)))\n",
    "ind2=[i for i in ind if not (i ==1 or i==15)]\n",
    "new_res=shrt_res[ind2]\n",
    "\n",
    "print(len(new_res))\n",
    "new_res"
   ]
  },
  {
   "cell_type": "code",
   "execution_count": null,
   "id": "0062e8f8",
   "metadata": {},
   "outputs": [],
   "source": []
  },
  {
   "cell_type": "code",
   "execution_count": null,
   "id": "a0c278a6",
   "metadata": {},
   "outputs": [],
   "source": []
  }
 ],
 "metadata": {
  "kernelspec": {
   "display_name": "Python 3 (ipykernel)",
   "language": "python",
   "name": "python3"
  },
  "language_info": {
   "codemirror_mode": {
    "name": "ipython",
    "version": 3
   },
   "file_extension": ".py",
   "mimetype": "text/x-python",
   "name": "python",
   "nbconvert_exporter": "python",
   "pygments_lexer": "ipython3",
   "version": "3.9.7"
  }
 },
 "nbformat": 4,
 "nbformat_minor": 5
}
