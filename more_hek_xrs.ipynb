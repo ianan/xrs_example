{
 "cells": [
  {
   "cell_type": "code",
   "execution_count": 1,
   "id": "842c6dbe",
   "metadata": {},
   "outputs": [
    {
     "name": "stdout",
     "output_type": "stream",
     "text": [
      "Results from 1 Provider:\n",
      "\n",
      "0 Results from the XRSClient:\n",
      "Source: <13: https://umbra.nascom.nasa.gov/goes/fits \n",
      "13, 14, 15: https://satdat.ngdc.noaa.gov/sem/goes/data/science/ \n",
      "16, 17: https://data.ngdc.noaa.gov/platforms/solar-space-observing-satellites/goes/\n",
      "\n",
      "<No columns>\n",
      "\n",
      "\n"
     ]
    }
   ],
   "source": [
    "from sunpy.net import Fido\n",
    "from sunpy.net import attrs as a\n",
    "rg=Fido.search(a.Time(\"2011-03-09 23:00\",\"2011-03-10 02:10\"), a.Instrument(\"XRS\"))\n",
    "print(rg)\n"
   ]
  },
  {
   "cell_type": "code",
   "execution_count": 2,
   "id": "0ba5bd84",
   "metadata": {},
   "outputs": [],
   "source": [
    "# Was there at some point\n",
    "# https://www.solarmonitor.org/data/2011/03/10/pngs/goes/goes_xrays_20110310.png\n",
    "# but mostly missing files in the noaa directory for that month:\n",
    "# https://satdat.ngdc.noaa.gov/sem/goes/data/science/xrs/goes15/gxrs-l2-irrad_science/2011/03/"
   ]
  },
  {
   "cell_type": "code",
   "execution_count": null,
   "id": "b50d15ae",
   "metadata": {},
   "outputs": [],
   "source": []
  },
  {
   "cell_type": "code",
   "execution_count": 3,
   "id": "2e4e1416",
   "metadata": {},
   "outputs": [
    {
     "name": "stdout",
     "output_type": "stream",
     "text": [
      "    event_starttime          event_peaktime          event_endtime      fl_goescls\n",
      "----------------------- ----------------------- ----------------------- ----------\n",
      "2011-03-09 23:13:00.000 2011-03-09 23:23:00.000 2011-03-09 23:29:00.000       X1.5\n",
      "    event_starttime          event_peaktime          event_endtime      fl_goescls\n",
      "----------------------- ----------------------- ----------------------- ----------\n",
      "2012-10-23 03:13:00.000 2012-10-23 03:17:00.000 2012-10-23 03:21:00.000       X1.8\n",
      "43\n"
     ]
    },
    {
     "data": {
      "text/html": [
       "<div><i>HEKTable length=43</i>\n",
       "<table id=\"table140503883142384\" class=\"table-striped table-bordered table-condensed\">\n",
       "<thead><tr><th>event_starttime</th><th>event_peaktime</th><th>event_endtime</th><th>fl_goescls</th></tr></thead>\n",
       "<thead><tr><th>Time</th><th>Time</th><th>Time</th><th>str4</th></tr></thead>\n",
       "<tr><td>2011-02-15 01:44:00.000</td><td>2011-02-15 01:56:00.000</td><td>2011-02-15 02:06:00.000</td><td>X2.2</td></tr>\n",
       "<tr><td>2011-08-09 07:48:00.000</td><td>2011-08-09 08:05:00.000</td><td>2011-08-09 08:08:00.000</td><td>X6.9</td></tr>\n",
       "<tr><td>2011-09-06 22:12:00.000</td><td>2011-09-06 22:20:00.000</td><td>2011-09-06 22:24:00.000</td><td>X2.1</td></tr>\n",
       "<tr><td>2011-09-06 22:12:00.000</td><td>2011-09-06 22:20:00.000</td><td>2011-09-06 22:24:00.000</td><td>X2.1</td></tr>\n",
       "<tr><td>2011-09-07 22:32:00.000</td><td>2011-09-07 22:38:00.000</td><td>2011-09-07 22:44:00.000</td><td>X1.8</td></tr>\n",
       "<tr><td>...</td><td>...</td><td>...</td><td>...</td></tr>\n",
       "<tr><td>2015-03-11 16:11:00.000</td><td>2015-03-11 16:22:00.000</td><td>2015-03-11 16:29:00.000</td><td>X2.1</td></tr>\n",
       "<tr><td>2015-05-05 22:05:00.000</td><td>2015-05-05 22:11:00.000</td><td>2015-05-05 22:15:00.000</td><td>X2.7</td></tr>\n",
       "<tr><td>2017-09-06 08:57:00.000</td><td>2017-09-06 09:10:00.000</td><td>2017-09-06 09:17:00.000</td><td>X2.2</td></tr>\n",
       "<tr><td>2017-09-06 11:53:00.000</td><td>2017-09-06 12:02:00.000</td><td>2017-09-06 12:10:00.000</td><td>X9.3</td></tr>\n",
       "<tr><td>2017-09-07 14:20:00.000</td><td>2017-09-07 14:36:00.000</td><td>2017-09-07 14:55:00.000</td><td>X1.3</td></tr>\n",
       "<tr><td>2017-09-10 15:35:00.000</td><td>2017-09-10 16:06:00.000</td><td>2017-09-10 16:31:00.000</td><td>X8.2</td></tr>\n",
       "</table></div>"
      ],
      "text/plain": [
       "<sunpy.net.hek.hek.HEKTable object at 0x7fc9680606d0>\n",
       "    event_starttime          event_peaktime     ... fl_goescls\n",
       "----------------------- ----------------------- ... ----------\n",
       "2011-02-15 01:44:00.000 2011-02-15 01:56:00.000 ...       X2.2\n",
       "2011-08-09 07:48:00.000 2011-08-09 08:05:00.000 ...       X6.9\n",
       "2011-09-06 22:12:00.000 2011-09-06 22:20:00.000 ...       X2.1\n",
       "2011-09-06 22:12:00.000 2011-09-06 22:20:00.000 ...       X2.1\n",
       "2011-09-07 22:32:00.000 2011-09-07 22:38:00.000 ...       X1.8\n",
       "2011-09-22 10:29:00.000 2011-09-22 11:01:00.000 ...       X1.4\n",
       "                    ...                     ... ...        ...\n",
       "2015-03-11 16:11:00.000 2015-03-11 16:22:00.000 ...       X2.1\n",
       "2015-05-05 22:05:00.000 2015-05-05 22:11:00.000 ...       X2.7\n",
       "2017-09-06 08:57:00.000 2017-09-06 09:10:00.000 ...       X2.2\n",
       "2017-09-06 11:53:00.000 2017-09-06 12:02:00.000 ...       X9.3\n",
       "2017-09-07 14:20:00.000 2017-09-07 14:36:00.000 ...       X1.3\n",
       "2017-09-10 15:35:00.000 2017-09-10 16:06:00.000 ...       X8.2\n",
       "Length = 43 rows"
      ]
     },
     "execution_count": 3,
     "metadata": {},
     "output_type": "execute_result"
    }
   ],
   "source": [
    "trange=a.Time(\"2010-03-01 00:00\",\"2020-03-01 00:00\")\n",
    "res = Fido.search(trange,a.hek.EventType(\"FL\"),a.hek.FL.GOESCls > \"X1.0\",a.hek.OBS.Observatory == \"GOES\")\n",
    "hekres = res[\"hek\"]\n",
    "shrt_res = hekres[\"event_starttime\", \"event_peaktime\",\"event_endtime\", \"fl_goescls\"]\n",
    "\n",
    "# These were the ones that returned no G15 XRS data?\n",
    "print(shrt_res[1])\n",
    "print(shrt_res[15])\n",
    "\n",
    "# get rid of them from the list\n",
    "ind=list(range(len(shrt_res)))\n",
    "ind2=[i for i in ind if not (i ==1 or i==15)]\n",
    "new_res=shrt_res[ind2]\n",
    "\n",
    "print(len(new_res))\n",
    "new_res"
   ]
  },
  {
   "cell_type": "code",
   "execution_count": null,
   "id": "0062e8f8",
   "metadata": {},
   "outputs": [],
   "source": []
  },
  {
   "cell_type": "code",
   "execution_count": null,
   "id": "a0c278a6",
   "metadata": {},
   "outputs": [],
   "source": []
  }
 ],
 "metadata": {
  "kernelspec": {
   "display_name": "Python 3 (ipykernel)",
   "language": "python",
   "name": "python3"
  },
  "language_info": {
   "codemirror_mode": {
    "name": "ipython",
    "version": 3
   },
   "file_extension": ".py",
   "mimetype": "text/x-python",
   "name": "python",
   "nbconvert_exporter": "python",
   "pygments_lexer": "ipython3",
   "version": "3.9.7"
  }
 },
 "nbformat": 4,
 "nbformat_minor": 5
}
